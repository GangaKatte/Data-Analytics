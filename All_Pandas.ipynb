{
  "nbformat": 4,
  "nbformat_minor": 0,
  "metadata": {
    "colab": {
      "provenance": []
    },
    "kernelspec": {
      "name": "python3",
      "display_name": "Python 3"
    },
    "language_info": {
      "name": "python"
    }
  },
  "cells": [
    {
      "cell_type": "code",
      "execution_count": 1,
      "metadata": {
        "id": "9FbEbPpTmyK1"
      },
      "outputs": [],
      "source": [
        "import pandas as pd\n",
        "import numpy as np"
      ]
    },
    {
      "cell_type": "code",
      "source": [
        "\n",
        "\n",
        "data = {'Name': ['Alice', 'Bob', 'Charlie'],\n",
        "        'Age': [25, 30, 35],\n",
        "        'Salary': [50000, 60000, 70000]}\n",
        "\n",
        "df = pd.DataFrame(data)\n",
        "print(df)\n"
      ],
      "metadata": {
        "colab": {
          "base_uri": "https://localhost:8080/"
        },
        "id": "oG7UfzaPm4C1",
        "outputId": "61be7c40-6c97-41c6-a503-4fc56d0572b1"
      },
      "execution_count": 2,
      "outputs": [
        {
          "output_type": "stream",
          "name": "stdout",
          "text": [
            "      Name  Age  Salary\n",
            "0    Alice   25   50000\n",
            "1      Bob   30   60000\n",
            "2  Charlie   35   70000\n"
          ]
        }
      ]
    },
    {
      "cell_type": "code",
      "source": [
        "#df = pd.read_csv(\"data.csv\")  # Load a dataset\n",
        "print(df.head())  # Show first 5 rows\n",
        "print(df.shape)   # (rows, columns)\n",
        "print(df.columns) # List of column names\n"
      ],
      "metadata": {
        "colab": {
          "base_uri": "https://localhost:8080/"
        },
        "id": "KnZ7i3uWnJ_L",
        "outputId": "9a93848a-0738-4ffc-d12a-647d44ec6940"
      },
      "execution_count": 4,
      "outputs": [
        {
          "output_type": "stream",
          "name": "stdout",
          "text": [
            "      Name  Age  Salary\n",
            "0    Alice   25   50000\n",
            "1      Bob   30   60000\n",
            "2  Charlie   35   70000\n",
            "(3, 3)\n",
            "Index(['Name', 'Age', 'Salary'], dtype='object')\n"
          ]
        }
      ]
    },
    {
      "cell_type": "code",
      "source": [
        "print(df['Age'])    # Selecting one column\n",
        "print(df[['Name', 'Salary']])  # Selecting multiple columns\n",
        "print(df.iloc[1])   # Selecting the second row (index 1)\n",
        "print(df.iloc[0:2]) # Selecting first two rows\n",
        "print(df.iloc[1, 2])  # Row index 1, Column index 2 (Salary of Bob)\n",
        "print(df.iloc[0:2, 1:3])  # First 2 rows & columns Age and Salary\n",
        "\n"
      ],
      "metadata": {
        "colab": {
          "base_uri": "https://localhost:8080/"
        },
        "id": "Kasx8mx8nRof",
        "outputId": "cfae08a1-bd5d-4b98-f4bf-090a41bcb21a"
      },
      "execution_count": 6,
      "outputs": [
        {
          "output_type": "stream",
          "name": "stdout",
          "text": [
            "0    25\n",
            "1    30\n",
            "2    35\n",
            "Name: Age, dtype: int64\n",
            "      Name  Salary\n",
            "0    Alice   50000\n",
            "1      Bob   60000\n",
            "2  Charlie   70000\n",
            "Name        Bob\n",
            "Age          30\n",
            "Salary    60000\n",
            "Name: 1, dtype: object\n",
            "    Name  Age  Salary\n",
            "0  Alice   25   50000\n",
            "1    Bob   30   60000\n",
            "60000\n",
            "   Age  Salary\n",
            "0   25   50000\n",
            "1   30   60000\n"
          ]
        }
      ]
    },
    {
      "cell_type": "code",
      "source": [
        "product={\n",
        "    \"name\":[\"AC\",\"Freeze\",\"Fan\"],\n",
        "    \"price\":[200,400,9000],\n",
        "    \"quantity\":[5,6,7]\n",
        "}\n",
        "df=pd.DataFrame(product)\n",
        "print(df)"
      ],
      "metadata": {
        "colab": {
          "base_uri": "https://localhost:8080/"
        },
        "id": "xSJQZfXbnkFm",
        "outputId": "fd0c3e62-3769-44c4-a377-8d7c3c7f5c05"
      },
      "execution_count": 7,
      "outputs": [
        {
          "output_type": "stream",
          "name": "stdout",
          "text": [
            "     name  price  quantity\n",
            "0      AC    200         5\n",
            "1  Freeze    400         6\n",
            "2     Fan   9000         7\n"
          ]
        }
      ]
    },
    {
      "cell_type": "code",
      "source": [
        "print(df.iloc[0:3,1])"
      ],
      "metadata": {
        "colab": {
          "base_uri": "https://localhost:8080/"
        },
        "id": "Zaeqtwe8o4VP",
        "outputId": "cbfffe32-9258-4f5b-a420-66db7fcb734a"
      },
      "execution_count": 11,
      "outputs": [
        {
          "output_type": "stream",
          "name": "stdout",
          "text": [
            "0     200\n",
            "1     400\n",
            "2    9000\n",
            "Name: price, dtype: int64\n"
          ]
        }
      ]
    },
    {
      "cell_type": "code",
      "source": [
        "print(df.iloc[0:2,0:3])"
      ],
      "metadata": {
        "colab": {
          "base_uri": "https://localhost:8080/"
        },
        "id": "6i5WS5XWpCZj",
        "outputId": "487a272b-7edb-4da1-e572-04bd8242666f"
      },
      "execution_count": 12,
      "outputs": [
        {
          "output_type": "stream",
          "name": "stdout",
          "text": [
            "     name  price  quantity\n",
            "0      AC    200         5\n",
            "1  Freeze    400         6\n"
          ]
        }
      ]
    },
    {
      "cell_type": "code",
      "source": [
        "print(df.isnull().sum())  # Count missing values in each column"
      ],
      "metadata": {
        "colab": {
          "base_uri": "https://localhost:8080/"
        },
        "id": "Mwemznk2qSes",
        "outputId": "3650244a-f02d-4996-a956-63113f7cecb1"
      },
      "execution_count": 13,
      "outputs": [
        {
          "output_type": "stream",
          "name": "stdout",
          "text": [
            "name        0\n",
            "price       0\n",
            "quantity    0\n",
            "dtype: int64\n"
          ]
        }
      ]
    },
    {
      "cell_type": "code",
      "source": [
        "df_cleaned = df.dropna()\n"
      ],
      "metadata": {
        "id": "jXeuOWfbqvSE"
      },
      "execution_count": 14,
      "outputs": []
    },
    {
      "cell_type": "code",
      "source": [
        "df_filled = df.fillna(0)  # Replace NaN with 0\n"
      ],
      "metadata": {
        "id": "5aUXgmCiq1PW"
      },
      "execution_count": 15,
      "outputs": []
    },
    {
      "cell_type": "code",
      "source": [
        "df = df.drop_duplicates()  # Removes duplicate rows\n"
      ],
      "metadata": {
        "id": "b-YAGACYq5mK"
      },
      "execution_count": 16,
      "outputs": []
    },
    {
      "cell_type": "code",
      "source": [
        "df['price'] = df['price'].astype(float)  # Convert column to float\n"
      ],
      "metadata": {
        "id": "1OBLqFoKq-cU"
      },
      "execution_count": 18,
      "outputs": []
    },
    {
      "cell_type": "code",
      "source": [
        "student_info={\n",
        "    \"name\":[\"Ganga\",\"Imran\",\"Ishan\"],\n",
        "    \"rollno\":[1,1,np.nan]\n",
        "}\n",
        "df1=pd.DataFrame(student_info)\n",
        "print(df1)"
      ],
      "metadata": {
        "colab": {
          "base_uri": "https://localhost:8080/"
        },
        "id": "cmg-TkyErE7D",
        "outputId": "b321274e-79a2-4cf2-ab93-82d8369091f7"
      },
      "execution_count": 24,
      "outputs": [
        {
          "output_type": "stream",
          "name": "stdout",
          "text": [
            "    name  rollno\n",
            "0  Ganga     1.0\n",
            "1  Imran     1.0\n",
            "2  Ishan     NaN\n"
          ]
        }
      ]
    },
    {
      "cell_type": "code",
      "source": [
        "print(df1.isnull().sum())"
      ],
      "metadata": {
        "colab": {
          "base_uri": "https://localhost:8080/"
        },
        "id": "p2Qj4fuWrjet",
        "outputId": "f1af49fb-a346-40de-c1b5-da863a63d6e1"
      },
      "execution_count": 25,
      "outputs": [
        {
          "output_type": "stream",
          "name": "stdout",
          "text": [
            "name      0\n",
            "rollno    1\n",
            "dtype: int64\n"
          ]
        }
      ]
    },
    {
      "cell_type": "code",
      "source": [
        "m=df1['rollno'].mean()\n",
        "print(m)\n",
        "b=df1.fillna(m)\n",
        "print(b)"
      ],
      "metadata": {
        "colab": {
          "base_uri": "https://localhost:8080/"
        },
        "id": "K1PqQWY8r3Kl",
        "outputId": "9f1b63b7-91e2-48f4-feff-817a24ef1dfc"
      },
      "execution_count": 30,
      "outputs": [
        {
          "output_type": "stream",
          "name": "stdout",
          "text": [
            "1.0\n",
            "    name  rollno\n",
            "0  Ganga     1.0\n",
            "1  Imran     1.0\n",
            "2  Ishan     1.0\n"
          ]
        }
      ]
    },
    {
      "cell_type": "code",
      "source": [
        "df1=df1.drop_duplicates()\n"
      ],
      "metadata": {
        "id": "L70aapzmsNsY"
      },
      "execution_count": 33,
      "outputs": []
    },
    {
      "cell_type": "code",
      "source": [
        "df1['rollno'] = df1['rollno'].astype(float)\n",
        "print(df1)"
      ],
      "metadata": {
        "colab": {
          "base_uri": "https://localhost:8080/"
        },
        "id": "8YW4We69tMod",
        "outputId": "f0362f84-e7ef-477a-ae30-67249b411402"
      },
      "execution_count": 34,
      "outputs": [
        {
          "output_type": "stream",
          "name": "stdout",
          "text": [
            "    name  rollno\n",
            "0  Ganga     1.0\n",
            "1  Imran     1.0\n",
            "2  Ishan     NaN\n"
          ]
        }
      ]
    },
    {
      "cell_type": "code",
      "source": [],
      "metadata": {
        "id": "rLvGAJ9ItbiH"
      },
      "execution_count": null,
      "outputs": []
    }
  ]
}